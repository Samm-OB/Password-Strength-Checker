{
 "cells": [
  {
   "cell_type": "code",
   "execution_count": 1,
   "id": "cc372046-86d9-4833-ba49-68c3bb23e627",
   "metadata": {},
   "outputs": [],
   "source": [
    "import streamlit as st\n",
    "import re"
   ]
  },
  {
   "cell_type": "code",
   "execution_count": 2,
   "id": "1d3dab88-f2d1-4eeb-83e6-806470772dca",
   "metadata": {},
   "outputs": [
    {
     "name": "stderr",
     "output_type": "stream",
     "text": [
      "2025-04-09 19:57:31.750 WARNING streamlit.runtime.scriptrunner_utils.script_run_context: Thread 'MainThread': missing ScriptRunContext! This warning can be ignored when running in bare mode.\n",
      "2025-04-09 19:57:31.753 WARNING streamlit.runtime.scriptrunner_utils.script_run_context: Thread 'MainThread': missing ScriptRunContext! This warning can be ignored when running in bare mode.\n",
      "2025-04-09 19:57:32.580 \n",
      "  \u001b[33m\u001b[1mWarning:\u001b[0m to view this Streamlit app on a browser, run it with the following\n",
      "  command:\n",
      "\n",
      "    streamlit run C:\\Users\\rt\\anaconda3\\Lib\\site-packages\\ipykernel_launcher.py [ARGUMENTS]\n",
      "2025-04-09 19:57:32.580 Thread 'MainThread': missing ScriptRunContext! This warning can be ignored when running in bare mode.\n",
      "2025-04-09 19:57:32.580 Thread 'MainThread': missing ScriptRunContext! This warning can be ignored when running in bare mode.\n",
      "2025-04-09 19:57:32.580 Thread 'MainThread': missing ScriptRunContext! This warning can be ignored when running in bare mode.\n",
      "2025-04-09 19:57:32.580 Thread 'MainThread': missing ScriptRunContext! This warning can be ignored when running in bare mode.\n",
      "2025-04-09 19:57:32.580 Thread 'MainThread': missing ScriptRunContext! This warning can be ignored when running in bare mode.\n",
      "2025-04-09 19:57:32.598 Session state does not function when running a script without `streamlit run`\n",
      "2025-04-09 19:57:32.598 Thread 'MainThread': missing ScriptRunContext! This warning can be ignored when running in bare mode.\n",
      "2025-04-09 19:57:32.598 Thread 'MainThread': missing ScriptRunContext! This warning can be ignored when running in bare mode.\n"
     ]
    }
   ],
   "source": [
    "st.set_page_config(page_title=\"Password Strength Checker\", layout=\"centered\")\n",
    "st.title(\"Password Strength Checker\")\n",
    "\n",
    "password = st.text_input(\"Enter your password\", type=\"password\")\n",
    "\n",
    "def PswdChecker(pw):\n",
    "    strength_score = 0\n",
    "    feedback = []\n",
    "\n",
    "    if len(pw) >= 8:\n",
    "        strength_score += 1\n",
    "    else:\n",
    "        feedback.append(\"The Length of your password must be at least 8 Characters\")\n",
    "    if re.search(r\"[A-Z]\", pw):\n",
    "        strength_score +=1\n",
    "    else:\n",
    "        feedback.append(\"Your password must contain at least 1 uppercase character\")\n",
    "    if re.search(r\"[a-z]\", pw):\n",
    "        strength_score +=1\n",
    "    else:\n",
    "        feedback.append(\"Your password must contain at least 1 Lowercase character\")\n",
    "    if re.search(r\"[0-9]\", pw):\n",
    "        strength_score +=1\n",
    "    else:\n",
    "        feedback.append(\"Your password must contain at least 1 Number\")\n",
    "    if re.search(r\"[\\W_]\", pw):\n",
    "        strength_score +=1\n",
    "    else:\n",
    "        feedback.append(\"Your password must contain at least 1 Special character\")\n",
    "    return strength_score, feedback\n",
    "\n",
    "if password:\n",
    "    score, advice = PswdChecker(pw)\n",
    "\n",
    "    strenght_levels = {5 : \"Very strong\",\n",
    "                      4 : \"Strong\",\n",
    "                      3 : \"Moderate\",\n",
    "                      2 : \"Weak\",\n",
    "                      1 : \"Very Weak\",\n",
    "                      0 : \"Extremely Weak\"}\n",
    "    st.markdown(f\"**Strenght**: {strenght_levels[score]}\")\n",
    "\n",
    "    if(advice):\n",
    "        st.markdown(\"**Suggestion for Improving your password:**\")\n",
    "        for item in advice:\n",
    "            st.write(f\"- {item}\")\n",
    "\n"
   ]
  },
  {
   "cell_type": "code",
   "execution_count": 6,
   "id": "2a18e174-f1c9-44a6-b599-0504ec87be2e",
   "metadata": {},
   "outputs": [],
   "source": [
    "import string as str\n",
    "import random\n",
    "\n",
    "def pwd_Generator():\n",
    "    length = st.slider(\"Lenght of password\", min_value=8, max_value=24, value=12)\n",
    "    all_chars = str.ascii_letters + str.punctuation + str.digits\n",
    "    return ''.join(random.choices(all_chars, k=length))\n",
    "\n",
    "    st.button(\"Generate\")\n",
    "    new_pswd = pwd_Generator()\n",
    "    st.success(f\"Suggested Password: {new_pswd}\")"
   ]
  },
  {
   "cell_type": "code",
   "execution_count": null,
   "id": "7f527d19-dc2a-41f6-afd8-181bf14b3a0a",
   "metadata": {},
   "outputs": [],
   "source": []
  }
 ],
 "metadata": {
  "kernelspec": {
   "display_name": "Python 3 (ipykernel)",
   "language": "python",
   "name": "python3"
  },
  "language_info": {
   "codemirror_mode": {
    "name": "ipython",
    "version": 3
   },
   "file_extension": ".py",
   "mimetype": "text/x-python",
   "name": "python",
   "nbconvert_exporter": "python",
   "pygments_lexer": "ipython3",
   "version": "3.11.9"
  }
 },
 "nbformat": 4,
 "nbformat_minor": 5
}
